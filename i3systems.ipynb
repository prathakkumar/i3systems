{
  "nbformat": 4,
  "nbformat_minor": 0,
  "metadata": {
    "colab": {
      "name": "i33333.ipynb",
      "provenance": [],
      "collapsed_sections": [],
      "include_colab_link": true
    },
    "kernelspec": {
      "display_name": "Python 3",
      "language": "python",
      "name": "python3"
    },
    "language_info": {
      "codemirror_mode": {
        "name": "ipython",
        "version": 3
      },
      "file_extension": ".py",
      "mimetype": "text/x-python",
      "name": "python",
      "nbconvert_exporter": "python",
      "pygments_lexer": "ipython3",
      "version": "3.8.5"
    },
    "accelerator": "GPU"
  },
  "cells": [
    {
      "cell_type": "markdown",
      "metadata": {
        "id": "view-in-github",
        "colab_type": "text"
      },
      "source": [
        "<a href=\"https://colab.research.google.com/github/prathakkumar/i3systems/blob/main/i3systems.ipynb\" target=\"_parent\"><img src=\"https://colab.research.google.com/assets/colab-badge.svg\" alt=\"Open In Colab\"/></a>"
      ]
    },
    {
      "cell_type": "code",
      "metadata": {
        "colab": {
          "base_uri": "https://localhost:8080/"
        },
        "id": "hZQ2E--fUl6I",
        "outputId": "e5073db5-a4bb-4a7d-949f-ef142ab02ae2"
      },
      "source": [
        "from google.colab import drive\n",
        "drive.mount('/content/drive')"
      ],
      "execution_count": null,
      "outputs": [
        {
          "output_type": "stream",
          "text": [
            "Mounted at /content/drive\n"
          ],
          "name": "stdout"
        }
      ]
    },
    {
      "cell_type": "code",
      "metadata": {
        "colab": {
          "base_uri": "https://localhost:8080/"
        },
        "id": "hBf0qGrnFCsN",
        "outputId": "6b12a6ca-e749-4928-e64c-662ee59e11d8"
      },
      "source": [
        "pip install tensorflow-gpu"
      ],
      "execution_count": null,
      "outputs": [
        {
          "output_type": "stream",
          "text": [
            "Collecting tensorflow-gpu\n",
            "\u001b[?25l  Downloading https://files.pythonhosted.org/packages/1d/a2/5ccf0a418eb22e0a2ae9edc1e7f5456d0a4b8b49524572897564b4030a9b/tensorflow_gpu-2.5.0-cp37-cp37m-manylinux2010_x86_64.whl (454.3MB)\n",
            "\u001b[K     |████████████████████████████████| 454.3MB 36kB/s \n",
            "\u001b[?25hRequirement already satisfied: numpy~=1.19.2 in /usr/local/lib/python3.7/dist-packages (from tensorflow-gpu) (1.19.5)\n",
            "Requirement already satisfied: protobuf>=3.9.2 in /usr/local/lib/python3.7/dist-packages (from tensorflow-gpu) (3.12.4)\n",
            "Requirement already satisfied: absl-py~=0.10 in /usr/local/lib/python3.7/dist-packages (from tensorflow-gpu) (0.12.0)\n",
            "Requirement already satisfied: flatbuffers~=1.12.0 in /usr/local/lib/python3.7/dist-packages (from tensorflow-gpu) (1.12)\n",
            "Requirement already satisfied: wrapt~=1.12.1 in /usr/local/lib/python3.7/dist-packages (from tensorflow-gpu) (1.12.1)\n",
            "Requirement already satisfied: astunparse~=1.6.3 in /usr/local/lib/python3.7/dist-packages (from tensorflow-gpu) (1.6.3)\n",
            "Requirement already satisfied: gast==0.4.0 in /usr/local/lib/python3.7/dist-packages (from tensorflow-gpu) (0.4.0)\n",
            "Requirement already satisfied: keras-nightly~=2.5.0.dev in /usr/local/lib/python3.7/dist-packages (from tensorflow-gpu) (2.5.0.dev2021032900)\n",
            "Requirement already satisfied: typing-extensions~=3.7.4 in /usr/local/lib/python3.7/dist-packages (from tensorflow-gpu) (3.7.4.3)\n",
            "Requirement already satisfied: tensorflow-estimator<2.6.0,>=2.5.0rc0 in /usr/local/lib/python3.7/dist-packages (from tensorflow-gpu) (2.5.0)\n",
            "Requirement already satisfied: wheel~=0.35 in /usr/local/lib/python3.7/dist-packages (from tensorflow-gpu) (0.36.2)\n",
            "Requirement already satisfied: keras-preprocessing~=1.1.2 in /usr/local/lib/python3.7/dist-packages (from tensorflow-gpu) (1.1.2)\n",
            "Requirement already satisfied: opt-einsum~=3.3.0 in /usr/local/lib/python3.7/dist-packages (from tensorflow-gpu) (3.3.0)\n",
            "Requirement already satisfied: termcolor~=1.1.0 in /usr/local/lib/python3.7/dist-packages (from tensorflow-gpu) (1.1.0)\n",
            "Requirement already satisfied: grpcio~=1.34.0 in /usr/local/lib/python3.7/dist-packages (from tensorflow-gpu) (1.34.1)\n",
            "Requirement already satisfied: h5py~=3.1.0 in /usr/local/lib/python3.7/dist-packages (from tensorflow-gpu) (3.1.0)\n",
            "Requirement already satisfied: six~=1.15.0 in /usr/local/lib/python3.7/dist-packages (from tensorflow-gpu) (1.15.0)\n",
            "Requirement already satisfied: google-pasta~=0.2 in /usr/local/lib/python3.7/dist-packages (from tensorflow-gpu) (0.2.0)\n",
            "Requirement already satisfied: tensorboard~=2.5 in /usr/local/lib/python3.7/dist-packages (from tensorflow-gpu) (2.5.0)\n",
            "Requirement already satisfied: setuptools in /usr/local/lib/python3.7/dist-packages (from protobuf>=3.9.2->tensorflow-gpu) (57.0.0)\n",
            "Requirement already satisfied: cached-property; python_version < \"3.8\" in /usr/local/lib/python3.7/dist-packages (from h5py~=3.1.0->tensorflow-gpu) (1.5.2)\n",
            "Requirement already satisfied: markdown>=2.6.8 in /usr/local/lib/python3.7/dist-packages (from tensorboard~=2.5->tensorflow-gpu) (3.3.4)\n",
            "Requirement already satisfied: tensorboard-data-server<0.7.0,>=0.6.0 in /usr/local/lib/python3.7/dist-packages (from tensorboard~=2.5->tensorflow-gpu) (0.6.1)\n",
            "Requirement already satisfied: google-auth<2,>=1.6.3 in /usr/local/lib/python3.7/dist-packages (from tensorboard~=2.5->tensorflow-gpu) (1.30.0)\n",
            "Requirement already satisfied: werkzeug>=0.11.15 in /usr/local/lib/python3.7/dist-packages (from tensorboard~=2.5->tensorflow-gpu) (1.0.1)\n",
            "Requirement already satisfied: requests<3,>=2.21.0 in /usr/local/lib/python3.7/dist-packages (from tensorboard~=2.5->tensorflow-gpu) (2.23.0)\n",
            "Requirement already satisfied: google-auth-oauthlib<0.5,>=0.4.1 in /usr/local/lib/python3.7/dist-packages (from tensorboard~=2.5->tensorflow-gpu) (0.4.4)\n",
            "Requirement already satisfied: tensorboard-plugin-wit>=1.6.0 in /usr/local/lib/python3.7/dist-packages (from tensorboard~=2.5->tensorflow-gpu) (1.8.0)\n",
            "Requirement already satisfied: importlib-metadata; python_version < \"3.8\" in /usr/local/lib/python3.7/dist-packages (from markdown>=2.6.8->tensorboard~=2.5->tensorflow-gpu) (4.0.1)\n",
            "Requirement already satisfied: cachetools<5.0,>=2.0.0 in /usr/local/lib/python3.7/dist-packages (from google-auth<2,>=1.6.3->tensorboard~=2.5->tensorflow-gpu) (4.2.2)\n",
            "Requirement already satisfied: pyasn1-modules>=0.2.1 in /usr/local/lib/python3.7/dist-packages (from google-auth<2,>=1.6.3->tensorboard~=2.5->tensorflow-gpu) (0.2.8)\n",
            "Requirement already satisfied: rsa<5,>=3.1.4; python_version >= \"3.6\" in /usr/local/lib/python3.7/dist-packages (from google-auth<2,>=1.6.3->tensorboard~=2.5->tensorflow-gpu) (4.7.2)\n",
            "Requirement already satisfied: chardet<4,>=3.0.2 in /usr/local/lib/python3.7/dist-packages (from requests<3,>=2.21.0->tensorboard~=2.5->tensorflow-gpu) (3.0.4)\n",
            "Requirement already satisfied: certifi>=2017.4.17 in /usr/local/lib/python3.7/dist-packages (from requests<3,>=2.21.0->tensorboard~=2.5->tensorflow-gpu) (2020.12.5)\n",
            "Requirement already satisfied: idna<3,>=2.5 in /usr/local/lib/python3.7/dist-packages (from requests<3,>=2.21.0->tensorboard~=2.5->tensorflow-gpu) (2.10)\n",
            "Requirement already satisfied: urllib3!=1.25.0,!=1.25.1,<1.26,>=1.21.1 in /usr/local/lib/python3.7/dist-packages (from requests<3,>=2.21.0->tensorboard~=2.5->tensorflow-gpu) (1.24.3)\n",
            "Requirement already satisfied: requests-oauthlib>=0.7.0 in /usr/local/lib/python3.7/dist-packages (from google-auth-oauthlib<0.5,>=0.4.1->tensorboard~=2.5->tensorflow-gpu) (1.3.0)\n",
            "Requirement already satisfied: zipp>=0.5 in /usr/local/lib/python3.7/dist-packages (from importlib-metadata; python_version < \"3.8\"->markdown>=2.6.8->tensorboard~=2.5->tensorflow-gpu) (3.4.1)\n",
            "Requirement already satisfied: pyasn1<0.5.0,>=0.4.6 in /usr/local/lib/python3.7/dist-packages (from pyasn1-modules>=0.2.1->google-auth<2,>=1.6.3->tensorboard~=2.5->tensorflow-gpu) (0.4.8)\n",
            "Requirement already satisfied: oauthlib>=3.0.0 in /usr/local/lib/python3.7/dist-packages (from requests-oauthlib>=0.7.0->google-auth-oauthlib<0.5,>=0.4.1->tensorboard~=2.5->tensorflow-gpu) (3.1.0)\n",
            "Installing collected packages: tensorflow-gpu\n",
            "Successfully installed tensorflow-gpu-2.5.0\n"
          ],
          "name": "stdout"
        }
      ]
    },
    {
      "cell_type": "code",
      "metadata": {
        "colab": {
          "base_uri": "https://localhost:8080/"
        },
        "id": "ohyBAJZUX32I",
        "outputId": "ac3ba6cc-731c-49c8-8e13-0a9c905b1e18"
      },
      "source": [
        "!nvidia-smi"
      ],
      "execution_count": null,
      "outputs": [
        {
          "output_type": "stream",
          "text": [
            "Tue Jun  8 16:45:48 2021       \n",
            "+-----------------------------------------------------------------------------+\n",
            "| NVIDIA-SMI 465.27       Driver Version: 460.32.03    CUDA Version: 11.2     |\n",
            "|-------------------------------+----------------------+----------------------+\n",
            "| GPU  Name        Persistence-M| Bus-Id        Disp.A | Volatile Uncorr. ECC |\n",
            "| Fan  Temp  Perf  Pwr:Usage/Cap|         Memory-Usage | GPU-Util  Compute M. |\n",
            "|                               |                      |               MIG M. |\n",
            "|===============================+======================+======================|\n",
            "|   0  Tesla T4            Off  | 00000000:00:04.0 Off |                    0 |\n",
            "| N/A   39C    P8     9W /  70W |      0MiB / 15109MiB |      0%      Default |\n",
            "|                               |                      |                  N/A |\n",
            "+-------------------------------+----------------------+----------------------+\n",
            "                                                                               \n",
            "+-----------------------------------------------------------------------------+\n",
            "| Processes:                                                                  |\n",
            "|  GPU   GI   CI        PID   Type   Process name                  GPU Memory |\n",
            "|        ID   ID                                                   Usage      |\n",
            "|=============================================================================|\n",
            "|  No running processes found                                                 |\n",
            "+-----------------------------------------------------------------------------+\n"
          ],
          "name": "stdout"
        }
      ]
    },
    {
      "cell_type": "markdown",
      "metadata": {
        "id": "dFeVoXnC-q8p"
      },
      "source": [
        "# Exploratory Data Analysis"
      ]
    },
    {
      "cell_type": "code",
      "metadata": {
        "id": "rM2DbM0eTDqe"
      },
      "source": [
        "import pandas as pd\n",
        "import matplotlib.pyplot as plt\n",
        "import numpy as np\n",
        "import seaborn as sns"
      ],
      "execution_count": null,
      "outputs": []
    },
    {
      "cell_type": "code",
      "metadata": {
        "id": "uUTJ1moYTDqf"
      },
      "source": [
        "train = pd.read_csv('/content/drive/MyDrive/Case_Study_Data_Train.csv')\n",
        "test = pd.read_csv('/content/drive/MyDrive/Case_Study_Data_Test.csv')"
      ],
      "execution_count": null,
      "outputs": []
    },
    {
      "cell_type": "code",
      "metadata": {
        "colab": {
          "base_uri": "https://localhost:8080/",
          "height": 204
        },
        "id": "jvGlMtW0Zh0a",
        "outputId": "3baba50e-10ad-4381-dccb-c55c0fc95e7a"
      },
      "source": [
        "train.head()"
      ],
      "execution_count": null,
      "outputs": [
        {
          "output_type": "execute_result",
          "data": {
            "text/html": [
              "<div>\n",
              "<style scoped>\n",
              "    .dataframe tbody tr th:only-of-type {\n",
              "        vertical-align: middle;\n",
              "    }\n",
              "\n",
              "    .dataframe tbody tr th {\n",
              "        vertical-align: top;\n",
              "    }\n",
              "\n",
              "    .dataframe thead th {\n",
              "        text-align: right;\n",
              "    }\n",
              "</style>\n",
              "<table border=\"1\" class=\"dataframe\">\n",
              "  <thead>\n",
              "    <tr style=\"text-align: right;\">\n",
              "      <th></th>\n",
              "      <th>Package</th>\n",
              "      <th>Sample</th>\n",
              "      <th>Medical_Description</th>\n",
              "    </tr>\n",
              "  </thead>\n",
              "  <tbody>\n",
              "    <tr>\n",
              "      <th>0</th>\n",
              "      <td>Neurosurgery</td>\n",
              "      <td>VP Shunt Placement</td>\n",
              "      <td>TITLE OF OPERATION: , Placement of right new v...</td>\n",
              "    </tr>\n",
              "    <tr>\n",
              "      <th>1</th>\n",
              "      <td>Neurosurgery</td>\n",
              "      <td>Craniotomy - Frontal Zygomatic</td>\n",
              "      <td>PREOPERATIVE DIAGNOSIS:,  Metopic synostosis w...</td>\n",
              "    </tr>\n",
              "    <tr>\n",
              "      <th>2</th>\n",
              "      <td>Neurosurgery</td>\n",
              "      <td>Wound Closure &amp; Debridement - Hydrocephalus</td>\n",
              "      <td>TITLE OF OPERATION:,  A complex closure and de...</td>\n",
              "    </tr>\n",
              "    <tr>\n",
              "      <th>3</th>\n",
              "      <td>Urology</td>\n",
              "      <td>Foul-Smelling Urine</td>\n",
              "      <td>CHIEF COMPLAINT:,  Foul-smelling urine and sto...</td>\n",
              "    </tr>\n",
              "    <tr>\n",
              "      <th>4</th>\n",
              "      <td>Neurology</td>\n",
              "      <td>MRI Head</td>\n",
              "      <td>EXAM:,  MRI Head W&amp;WO Contrast.,REASON FOR EXA...</td>\n",
              "    </tr>\n",
              "  </tbody>\n",
              "</table>\n",
              "</div>"
            ],
            "text/plain": [
              "         Package  ...                                Medical_Description\n",
              "0   Neurosurgery  ...  TITLE OF OPERATION: , Placement of right new v...\n",
              "1   Neurosurgery  ...  PREOPERATIVE DIAGNOSIS:,  Metopic synostosis w...\n",
              "2   Neurosurgery  ...  TITLE OF OPERATION:,  A complex closure and de...\n",
              "3        Urology  ...  CHIEF COMPLAINT:,  Foul-smelling urine and sto...\n",
              "4      Neurology  ...  EXAM:,  MRI Head W&WO Contrast.,REASON FOR EXA...\n",
              "\n",
              "[5 rows x 3 columns]"
            ]
          },
          "metadata": {
            "tags": []
          },
          "execution_count": 6
        }
      ]
    },
    {
      "cell_type": "code",
      "metadata": {
        "colab": {
          "base_uri": "https://localhost:8080/",
          "height": 204
        },
        "id": "OPEjaylETDqi",
        "outputId": "c2e0d423-360a-4e38-fedd-7ea37008bd61"
      },
      "source": [
        "test.head()"
      ],
      "execution_count": null,
      "outputs": [
        {
          "output_type": "execute_result",
          "data": {
            "text/html": [
              "<div>\n",
              "<style scoped>\n",
              "    .dataframe tbody tr th:only-of-type {\n",
              "        vertical-align: middle;\n",
              "    }\n",
              "\n",
              "    .dataframe tbody tr th {\n",
              "        vertical-align: top;\n",
              "    }\n",
              "\n",
              "    .dataframe thead th {\n",
              "        text-align: right;\n",
              "    }\n",
              "</style>\n",
              "<table border=\"1\" class=\"dataframe\">\n",
              "  <thead>\n",
              "    <tr style=\"text-align: right;\">\n",
              "      <th></th>\n",
              "      <th>Package</th>\n",
              "      <th>Sample</th>\n",
              "      <th>Medical_Description</th>\n",
              "    </tr>\n",
              "  </thead>\n",
              "  <tbody>\n",
              "    <tr>\n",
              "      <th>0</th>\n",
              "      <td>Ophthalmology</td>\n",
              "      <td>Browlift, Blepharoplasty, &amp; Rhytidectomy</td>\n",
              "      <td>PREOPERATIVE DIAGNOSES:,1.  Eyebrow ptosis.,2....</td>\n",
              "    </tr>\n",
              "    <tr>\n",
              "      <th>1</th>\n",
              "      <td>Orthopedic</td>\n",
              "      <td>Lumbar Discogram</td>\n",
              "      <td>PREOPERATIVE DIAGNOSIS: , Low back pain.,POSTO...</td>\n",
              "    </tr>\n",
              "    <tr>\n",
              "      <th>2</th>\n",
              "      <td>Cardiovascular / Pulmonary</td>\n",
              "      <td>Heart Catheterization &amp; Angiography - 1</td>\n",
              "      <td>CLINICAL INDICATION:  ,Normal stress test.,PRO...</td>\n",
              "    </tr>\n",
              "    <tr>\n",
              "      <th>3</th>\n",
              "      <td>Ophthalmology</td>\n",
              "      <td>Ophthalmology - Letter - 1</td>\n",
              "      <td>XYZ, O.D.,RE:  ABC,DOB:  MM/DD/YYYY,Dear Dr. X...</td>\n",
              "    </tr>\n",
              "    <tr>\n",
              "      <th>4</th>\n",
              "      <td>Neurosurgery</td>\n",
              "      <td>Scott Cannula</td>\n",
              "      <td>PROCEDURE:, Placement of Scott cannula, right ...</td>\n",
              "    </tr>\n",
              "  </tbody>\n",
              "</table>\n",
              "</div>"
            ],
            "text/plain": [
              "                       Package  ...                                Medical_Description\n",
              "0                Ophthalmology  ...  PREOPERATIVE DIAGNOSES:,1.  Eyebrow ptosis.,2....\n",
              "1                   Orthopedic  ...  PREOPERATIVE DIAGNOSIS: , Low back pain.,POSTO...\n",
              "2   Cardiovascular / Pulmonary  ...  CLINICAL INDICATION:  ,Normal stress test.,PRO...\n",
              "3                Ophthalmology  ...  XYZ, O.D.,RE:  ABC,DOB:  MM/DD/YYYY,Dear Dr. X...\n",
              "4                 Neurosurgery  ...  PROCEDURE:, Placement of Scott cannula, right ...\n",
              "\n",
              "[5 rows x 3 columns]"
            ]
          },
          "metadata": {
            "tags": []
          },
          "execution_count": 7
        }
      ]
    },
    {
      "cell_type": "markdown",
      "metadata": {
        "id": "7qN8Aufn-tro"
      },
      "source": [
        "## Missing Values"
      ]
    },
    {
      "cell_type": "code",
      "metadata": {
        "colab": {
          "base_uri": "https://localhost:8080/"
        },
        "id": "ojOGvpgnTDqj",
        "outputId": "52245eb0-c373-4ed3-e246-488cf71ef4a6"
      },
      "source": [
        "train.isnull().sum()"
      ],
      "execution_count": null,
      "outputs": [
        {
          "output_type": "execute_result",
          "data": {
            "text/plain": [
              "Package                 0\n",
              "Sample                  0\n",
              "Medical_Description    15\n",
              "dtype: int64"
            ]
          },
          "metadata": {
            "tags": []
          },
          "execution_count": 8
        }
      ]
    },
    {
      "cell_type": "code",
      "metadata": {
        "colab": {
          "base_uri": "https://localhost:8080/"
        },
        "id": "n5acGS32TDqj",
        "outputId": "fefcbb9f-6d01-4aaf-91df-25b07b6ccb98"
      },
      "source": [
        "train.shape"
      ],
      "execution_count": null,
      "outputs": [
        {
          "output_type": "execute_result",
          "data": {
            "text/plain": [
              "(1812, 3)"
            ]
          },
          "metadata": {
            "tags": []
          },
          "execution_count": 9
        }
      ]
    },
    {
      "cell_type": "code",
      "metadata": {
        "id": "JUmeVrixTDqk"
      },
      "source": [
        "train=train.dropna()"
      ],
      "execution_count": null,
      "outputs": []
    },
    {
      "cell_type": "code",
      "metadata": {
        "colab": {
          "base_uri": "https://localhost:8080/"
        },
        "id": "zABcimEgTDql",
        "outputId": "4f7b6a6d-7dd7-40b2-fe9d-79197d42bb70"
      },
      "source": [
        "train.shape"
      ],
      "execution_count": null,
      "outputs": [
        {
          "output_type": "execute_result",
          "data": {
            "text/plain": [
              "(1797, 3)"
            ]
          },
          "metadata": {
            "tags": []
          },
          "execution_count": 11
        }
      ]
    },
    {
      "cell_type": "code",
      "metadata": {
        "colab": {
          "base_uri": "https://localhost:8080/"
        },
        "id": "srKpWpEYTDql",
        "outputId": "138fb657-812d-4760-a66e-d2d9fd0a5c69"
      },
      "source": [
        "train['Package'].value_counts()"
      ],
      "execution_count": null,
      "outputs": [
        {
          "output_type": "execute_result",
          "data": {
            "text/plain": [
              " Cardiovascular / Pulmonary    334\n",
              " Orthopedic                    319\n",
              " Neurology                     201\n",
              " Gastroenterology              201\n",
              " Urology                       141\n",
              " Obstetrics / Gynecology       139\n",
              " ENT - Otolaryngology           86\n",
              " Neurosurgery                   84\n",
              " Hematology - Oncology          81\n",
              " Ophthalmology                  75\n",
              " Nephrology                     73\n",
              " Pediatrics - Neonatal          63\n",
              "Name: Package, dtype: int64"
            ]
          },
          "metadata": {
            "tags": []
          },
          "execution_count": 12
        }
      ]
    },
    {
      "cell_type": "code",
      "metadata": {
        "colab": {
          "base_uri": "https://localhost:8080/",
          "height": 559
        },
        "id": "urHflKSFTDqm",
        "outputId": "91226c5f-e0b1-4804-da6a-298781fb7777"
      },
      "source": [
        "sns.set_style('whitegrid')\n",
        "plt.figure(figsize=(25, 10))\n",
        "sns.countplot(x='Package',data=train)"
      ],
      "execution_count": null,
      "outputs": [
        {
          "output_type": "execute_result",
          "data": {
            "text/plain": [
              "<matplotlib.axes._subplots.AxesSubplot at 0x7f096e70a6d0>"
            ]
          },
          "metadata": {
            "tags": []
          },
          "execution_count": 13
        },
        {
          "output_type": "display_data",
          "data": {
            "image/png": "[encoded data removed]",
            "text/plain": [
              "<Figure size 1800x720 with 1 Axes>"
            ]
          },
          "metadata": {
            "tags": []
          }
        }
      ]
    },
    {
      "cell_type": "markdown",
      "metadata": {
        "id": "uqfUKJfZ-13T"
      },
      "source": [
        "## Data Cleaning"
      ]
    },
    {
      "cell_type": "code",
      "metadata": {
        "colab": {
          "base_uri": "https://localhost:8080/",
          "height": 292
        },
        "id": "-x1HjREiTDqm",
        "outputId": "10fcc45f-2977-49c8-9c2f-25f54add4fab"
      },
      "source": [
        "data=train.iloc[:,1:]\n",
        "data.replace(\"[^a-zA-Z]\",\" \",regex=True, inplace=True)\n",
        "\n",
        "list1= [i for i in range(2)]\n",
        "new_Index=[str(i) for i in list1]\n",
        "data.columns= new_Index\n",
        "data.head(5)"
      ],
      "execution_count": null,
      "outputs": [
        {
          "output_type": "stream",
          "text": [
            "/usr/local/lib/python3.7/dist-packages/pandas/core/frame.py:4389: SettingWithCopyWarning: \n",
            "A value is trying to be set on a copy of a slice from a DataFrame\n",
            "\n",
            "See the caveats in the documentation: https://pandas.pydata.org/pandas-docs/stable/user_guide/indexing.html#returning-a-view-versus-a-copy\n",
            "  method=method,\n"
          ],
          "name": "stderr"
        },
        {
          "output_type": "execute_result",
          "data": {
            "text/html": [
              "<div>\n",
              "<style scoped>\n",
              "    .dataframe tbody tr th:only-of-type {\n",
              "        vertical-align: middle;\n",
              "    }\n",
              "\n",
              "    .dataframe tbody tr th {\n",
              "        vertical-align: top;\n",
              "    }\n",
              "\n",
              "    .dataframe thead th {\n",
              "        text-align: right;\n",
              "    }\n",
              "</style>\n",
              "<table border=\"1\" class=\"dataframe\">\n",
              "  <thead>\n",
              "    <tr style=\"text-align: right;\">\n",
              "      <th></th>\n",
              "      <th>0</th>\n",
              "      <th>1</th>\n",
              "    </tr>\n",
              "  </thead>\n",
              "  <tbody>\n",
              "    <tr>\n",
              "      <th>0</th>\n",
              "      <td>VP Shunt Placement</td>\n",
              "      <td>TITLE OF OPERATION    Placement of right new v...</td>\n",
              "    </tr>\n",
              "    <tr>\n",
              "      <th>1</th>\n",
              "      <td>Craniotomy   Frontal Zygomatic</td>\n",
              "      <td>PREOPERATIVE DIAGNOSIS    Metopic synostosis w...</td>\n",
              "    </tr>\n",
              "    <tr>\n",
              "      <th>2</th>\n",
              "      <td>Wound Closure   Debridement   Hydrocephalus</td>\n",
              "      <td>TITLE OF OPERATION    A complex closure and de...</td>\n",
              "    </tr>\n",
              "    <tr>\n",
              "      <th>3</th>\n",
              "      <td>Foul Smelling Urine</td>\n",
              "      <td>CHIEF COMPLAINT    Foul smelling urine and sto...</td>\n",
              "    </tr>\n",
              "    <tr>\n",
              "      <th>4</th>\n",
              "      <td>MRI Head</td>\n",
              "      <td>EXAM    MRI Head W WO Contrast  REASON FOR EXA...</td>\n",
              "    </tr>\n",
              "  </tbody>\n",
              "</table>\n",
              "</div>"
            ],
            "text/plain": [
              "                                               0                                                  1\n",
              "0                            VP Shunt Placement   TITLE OF OPERATION    Placement of right new v...\n",
              "1                Craniotomy   Frontal Zygomatic   PREOPERATIVE DIAGNOSIS    Metopic synostosis w...\n",
              "2   Wound Closure   Debridement   Hydrocephalus   TITLE OF OPERATION    A complex closure and de...\n",
              "3                           Foul Smelling Urine   CHIEF COMPLAINT    Foul smelling urine and sto...\n",
              "4                                      MRI Head   EXAM    MRI Head W WO Contrast  REASON FOR EXA..."
            ]
          },
          "metadata": {
            "tags": []
          },
          "execution_count": 14
        }
      ]
    },
    {
      "cell_type": "code",
      "metadata": {
        "colab": {
          "base_uri": "https://localhost:8080/",
          "height": 310
        },
        "id": "cKmsfleyTDqn",
        "outputId": "5f8da826-7dd7-4ec0-ace4-39d49336df2f"
      },
      "source": [
        "for index in new_Index:\n",
        "    data[index]=data[index].str.lower()\n",
        "data.head()"
      ],
      "execution_count": null,
      "outputs": [
        {
          "output_type": "stream",
          "text": [
            "/usr/local/lib/python3.7/dist-packages/ipykernel_launcher.py:2: SettingWithCopyWarning: \n",
            "A value is trying to be set on a copy of a slice from a DataFrame.\n",
            "Try using .loc[row_indexer,col_indexer] = value instead\n",
            "\n",
            "See the caveats in the documentation: https://pandas.pydata.org/pandas-docs/stable/user_guide/indexing.html#returning-a-view-versus-a-copy\n",
            "  \n"
          ],
          "name": "stderr"
        },
        {
          "output_type": "execute_result",
          "data": {
            "text/html": [
              "<div>\n",
              "<style scoped>\n",
              "    .dataframe tbody tr th:only-of-type {\n",
              "        vertical-align: middle;\n",
              "    }\n",
              "\n",
              "    .dataframe tbody tr th {\n",
              "        vertical-align: top;\n",
              "    }\n",
              "\n",
              "    .dataframe thead th {\n",
              "        text-align: right;\n",
              "    }\n",
              "</style>\n",
              "<table border=\"1\" class=\"dataframe\">\n",
              "  <thead>\n",
              "    <tr style=\"text-align: right;\">\n",
              "      <th></th>\n",
              "      <th>0</th>\n",
              "      <th>1</th>\n",
              "    </tr>\n",
              "  </thead>\n",
              "  <tbody>\n",
              "    <tr>\n",
              "      <th>0</th>\n",
              "      <td>vp shunt placement</td>\n",
              "      <td>title of operation    placement of right new v...</td>\n",
              "    </tr>\n",
              "    <tr>\n",
              "      <th>1</th>\n",
              "      <td>craniotomy   frontal zygomatic</td>\n",
              "      <td>preoperative diagnosis    metopic synostosis w...</td>\n",
              "    </tr>\n",
              "    <tr>\n",
              "      <th>2</th>\n",
              "      <td>wound closure   debridement   hydrocephalus</td>\n",
              "      <td>title of operation    a complex closure and de...</td>\n",
              "    </tr>\n",
              "    <tr>\n",
              "      <th>3</th>\n",
              "      <td>foul smelling urine</td>\n",
              "      <td>chief complaint    foul smelling urine and sto...</td>\n",
              "    </tr>\n",
              "    <tr>\n",
              "      <th>4</th>\n",
              "      <td>mri head</td>\n",
              "      <td>exam    mri head w wo contrast  reason for exa...</td>\n",
              "    </tr>\n",
              "  </tbody>\n",
              "</table>\n",
              "</div>"
            ],
            "text/plain": [
              "                                               0                                                  1\n",
              "0                            vp shunt placement   title of operation    placement of right new v...\n",
              "1                craniotomy   frontal zygomatic   preoperative diagnosis    metopic synostosis w...\n",
              "2   wound closure   debridement   hydrocephalus   title of operation    a complex closure and de...\n",
              "3                           foul smelling urine   chief complaint    foul smelling urine and sto...\n",
              "4                                      mri head   exam    mri head w wo contrast  reason for exa..."
            ]
          },
          "metadata": {
            "tags": []
          },
          "execution_count": 15
        }
      ]
    },
    {
      "cell_type": "code",
      "metadata": {
        "id": "Sb-KhXlNTDqn"
      },
      "source": [
        "medical = []\n",
        "for row in range(0,len(data.index)):\n",
        "    medical.append(' '.join(str(x) for x in data.iloc[row,0:2]))"
      ],
      "execution_count": null,
      "outputs": []
    },
    {
      "cell_type": "markdown",
      "metadata": {
        "id": "W0V0aLN2TDqo"
      },
      "source": [
        "## Transforming text to feature vectors"
      ]
    },
    {
      "cell_type": "code",
      "metadata": {
        "id": "x8Dn-HE5TDqo"
      },
      "source": [
        "from sklearn.feature_extraction.text import TfidfVectorizer\n",
        "Tfidf=TfidfVectorizer(ngram_range=(2,2), stop_words='english')\n",
        "X=Tfidf.fit_transform(medical)"
      ],
      "execution_count": null,
      "outputs": []
    },
    {
      "cell_type": "markdown",
      "metadata": {
        "id": "Ns_tIqw8-_YB"
      },
      "source": [
        "# Handling Imbalance Data"
      ]
    },
    {
      "cell_type": "code",
      "metadata": {
        "id": "oKGzgHs0TDqo",
        "colab": {
          "base_uri": "https://localhost:8080/"
        },
        "outputId": "ef44a1ac-0a9f-48ec-d2c1-e51da6e1c466"
      },
      "source": [
        "from imblearn.over_sampling import SMOTE\n",
        "from sklearn.preprocessing import LabelEncoder"
      ],
      "execution_count": null,
      "outputs": [
        {
          "output_type": "stream",
          "text": [
            "/usr/local/lib/python3.7/dist-packages/sklearn/externals/six.py:31: FutureWarning: The module is deprecated in version 0.21 and will be removed in version 0.23 since we've dropped support for Python 2.7. Please rely on the official version of six (https://pypi.org/project/six/).\n",
            "  \"(https://pypi.org/project/six/).\", FutureWarning)\n",
            "/usr/local/lib/python3.7/dist-packages/sklearn/utils/deprecation.py:144: FutureWarning: The sklearn.neighbors.base module is  deprecated in version 0.22 and will be removed in version 0.24. The corresponding classes / functions should instead be imported from sklearn.neighbors. Anything that cannot be imported from sklearn.neighbors is now part of the private API.\n",
            "  warnings.warn(message, FutureWarning)\n"
          ],
          "name": "stderr"
        }
      ]
    },
    {
      "cell_type": "code",
      "metadata": {
        "colab": {
          "base_uri": "https://localhost:8080/"
        },
        "id": "QDV6vYVDTDqp",
        "outputId": "4149293b-8435-4508-f7fe-e684341164d2"
      },
      "source": [
        "from collections import Counter\n",
        "oversample = SMOTE()\n",
        "y = LabelEncoder().fit_transform(train['Package'])\n",
        "X, y = oversample.fit_resample(X, y)"
      ],
      "execution_count": null,
      "outputs": [
        {
          "output_type": "stream",
          "text": [
            "/usr/local/lib/python3.7/dist-packages/sklearn/utils/deprecation.py:87: FutureWarning: Function safe_indexing is deprecated; safe_indexing is deprecated in version 0.22 and will be removed in version 0.24.\n",
            "  warnings.warn(msg, category=FutureWarning)\n"
          ],
          "name": "stderr"
        }
      ]
    },
    {
      "cell_type": "code",
      "metadata": {
        "colab": {
          "base_uri": "https://localhost:8080/"
        },
        "id": "R63ApXWJTDqp",
        "outputId": "864b1204-4d08-4741-c275-2b3d0e417587"
      },
      "source": [
        "counter = Counter(y)\n",
        "for k,v in counter.items():\n",
        "    per = v / len(y) * 100\n",
        "    print('Class=%d, n=%d (%.3f%%)' % (k, v, per))"
      ],
      "execution_count": null,
      "outputs": [
        {
          "output_type": "stream",
          "text": [
            "Class=6, n=334 (8.333%)\n",
            "Class=11, n=334 (8.333%)\n",
            "Class=5, n=334 (8.333%)\n",
            "Class=2, n=334 (8.333%)\n",
            "Class=7, n=334 (8.333%)\n",
            "Class=0, n=334 (8.333%)\n",
            "Class=9, n=334 (8.333%)\n",
            "Class=10, n=334 (8.333%)\n",
            "Class=3, n=334 (8.333%)\n",
            "Class=8, n=334 (8.333%)\n",
            "Class=4, n=334 (8.333%)\n",
            "Class=1, n=334 (8.333%)\n"
          ],
          "name": "stdout"
        }
      ]
    },
    {
      "cell_type": "code",
      "metadata": {
        "colab": {
          "base_uri": "https://localhost:8080/",
          "height": 204
        },
        "id": "yqyONdGhTDqp",
        "outputId": "43ba59d5-d0b5-41b2-9d53-eff980f54859"
      },
      "source": [
        "test[\"Package\"] = LabelEncoder().fit_transform(test[\"Package\"])\n",
        "test.head()"
      ],
      "execution_count": null,
      "outputs": [
        {
          "output_type": "execute_result",
          "data": {
            "text/html": [
              "<div>\n",
              "<style scoped>\n",
              "    .dataframe tbody tr th:only-of-type {\n",
              "        vertical-align: middle;\n",
              "    }\n",
              "\n",
              "    .dataframe tbody tr th {\n",
              "        vertical-align: top;\n",
              "    }\n",
              "\n",
              "    .dataframe thead th {\n",
              "        text-align: right;\n",
              "    }\n",
              "</style>\n",
              "<table border=\"1\" class=\"dataframe\">\n",
              "  <thead>\n",
              "    <tr style=\"text-align: right;\">\n",
              "      <th></th>\n",
              "      <th>Package</th>\n",
              "      <th>Sample</th>\n",
              "      <th>Medical_Description</th>\n",
              "    </tr>\n",
              "  </thead>\n",
              "  <tbody>\n",
              "    <tr>\n",
              "      <th>0</th>\n",
              "      <td>8</td>\n",
              "      <td>Browlift, Blepharoplasty, &amp; Rhytidectomy</td>\n",
              "      <td>PREOPERATIVE DIAGNOSES:,1.  Eyebrow ptosis.,2....</td>\n",
              "    </tr>\n",
              "    <tr>\n",
              "      <th>1</th>\n",
              "      <td>9</td>\n",
              "      <td>Lumbar Discogram</td>\n",
              "      <td>PREOPERATIVE DIAGNOSIS: , Low back pain.,POSTO...</td>\n",
              "    </tr>\n",
              "    <tr>\n",
              "      <th>2</th>\n",
              "      <td>0</td>\n",
              "      <td>Heart Catheterization &amp; Angiography - 1</td>\n",
              "      <td>CLINICAL INDICATION:  ,Normal stress test.,PRO...</td>\n",
              "    </tr>\n",
              "    <tr>\n",
              "      <th>3</th>\n",
              "      <td>8</td>\n",
              "      <td>Ophthalmology - Letter - 1</td>\n",
              "      <td>XYZ, O.D.,RE:  ABC,DOB:  MM/DD/YYYY,Dear Dr. X...</td>\n",
              "    </tr>\n",
              "    <tr>\n",
              "      <th>4</th>\n",
              "      <td>6</td>\n",
              "      <td>Scott Cannula</td>\n",
              "      <td>PROCEDURE:, Placement of Scott cannula, right ...</td>\n",
              "    </tr>\n",
              "  </tbody>\n",
              "</table>\n",
              "</div>"
            ],
            "text/plain": [
              "   Package  ...                                Medical_Description\n",
              "0        8  ...  PREOPERATIVE DIAGNOSES:,1.  Eyebrow ptosis.,2....\n",
              "1        9  ...  PREOPERATIVE DIAGNOSIS: , Low back pain.,POSTO...\n",
              "2        0  ...  CLINICAL INDICATION:  ,Normal stress test.,PRO...\n",
              "3        8  ...  XYZ, O.D.,RE:  ABC,DOB:  MM/DD/YYYY,Dear Dr. X...\n",
              "4        6  ...  PROCEDURE:, Placement of Scott cannula, right ...\n",
              "\n",
              "[5 rows x 3 columns]"
            ]
          },
          "metadata": {
            "tags": []
          },
          "execution_count": 21
        }
      ]
    },
    {
      "cell_type": "code",
      "metadata": {
        "id": "EuSi4EUfTDqq"
      },
      "source": [
        "test_transform= []\n",
        "for row in range(0,len(test.index)):\n",
        "    test_transform.append(' '.join(str(x) for x in test.iloc[row,1:3]))\n",
        "test_dataset = Tfidf.transform(test_transform)"
      ],
      "execution_count": null,
      "outputs": []
    },
    {
      "cell_type": "markdown",
      "metadata": {
        "id": "1cQlwWRYTDqq"
      },
      "source": [
        "# SVM"
      ]
    },
    {
      "cell_type": "code",
      "metadata": {
        "id": "OvshQFJ9O95h"
      },
      "source": [
        "from sklearn.svm import SVC\n",
        "model2 = SVC(kernel='linear')\n",
        "model2.fit(X,y)\n",
        "predictions = model2.predict(test_dataset)"
      ],
      "execution_count": null,
      "outputs": []
    },
    {
      "cell_type": "code",
      "metadata": {
        "colab": {
          "base_uri": "https://localhost:8080/"
        },
        "id": "uTYSwaITO97i",
        "outputId": "60c5208e-fdb6-4ce5-c84a-074f685fcc9d"
      },
      "source": [
        "from sklearn.metrics import classification_report,confusion_matrix,accuracy_score\n",
        "print(confusion_matrix(test['Package'],predictions))\n",
        "print(accuracy_score(test['Package'],predictions))\n",
        "print(classification_report(test['Package'],predictions))"
      ],
      "execution_count": null,
      "outputs": [
        {
          "output_type": "stream",
          "text": [
            "[[36  0  0  0  0  0  0  0  0  0  1  0]\n",
            " [ 2  8  0  0  0  0  0  0  0  0  0  0]\n",
            " [ 2  0 20  0  1  0  0  0  0  0  0  0]\n",
            " [ 1  0  1  2  0  2  0  2  0  0  1  0]\n",
            " [ 2  0  0  0  4  0  0  0  0  0  0  2]\n",
            " [ 2  0  0  1  0 10  2  0  0  7  0  0]\n",
            " [ 0  0  0  0  0  2  4  0  0  4  0  0]\n",
            " [ 1  0  0  0  0  0  0 15  0  0  0  0]\n",
            " [ 0  0  0  0  0  0  0  0  8  0  0  0]\n",
            " [ 0  0  0  1  0  5  4  0  0 26  0  0]\n",
            " [ 0  1  0  0  0  1  0  0  0  0  2  3]\n",
            " [ 1  0  0  0  2  0  0  0  0  0  0 13]]\n",
            "0.7326732673267327\n",
            "              precision    recall  f1-score   support\n",
            "\n",
            "           0       0.77      0.97      0.86        37\n",
            "           1       0.89      0.80      0.84        10\n",
            "           2       0.95      0.87      0.91        23\n",
            "           3       0.50      0.22      0.31         9\n",
            "           4       0.57      0.50      0.53         8\n",
            "           5       0.50      0.45      0.48        22\n",
            "           6       0.40      0.40      0.40        10\n",
            "           7       0.88      0.94      0.91        16\n",
            "           8       1.00      1.00      1.00         8\n",
            "           9       0.70      0.72      0.71        36\n",
            "          10       0.50      0.29      0.36         7\n",
            "          11       0.72      0.81      0.76        16\n",
            "\n",
            "    accuracy                           0.73       202\n",
            "   macro avg       0.70      0.66      0.67       202\n",
            "weighted avg       0.72      0.73      0.72       202\n",
            "\n"
          ],
          "name": "stdout"
        }
      ]
    },
    {
      "cell_type": "code",
      "metadata": {
        "colab": {
          "base_uri": "https://localhost:8080/"
        },
        "id": "AgRL9zAXU8LD",
        "outputId": "aba78c1e-83eb-45fb-d457-4958800c2423"
      },
      "source": [
        "from sklearn.model_selection import KFold\n",
        "kfold_validation=KFold(10)\n",
        "from sklearn.model_selection import cross_val_score\n",
        "results=cross_val_score(model2,X,y,cv=kfold_validation)\n",
        "print(results)\n",
        "print(np.mean(results))"
      ],
      "execution_count": null,
      "outputs": [
        {
          "output_type": "stream",
          "text": [
            "[0.84289277 0.85037406 0.8553616  0.83541147 0.86783042 0.83291771\n",
            " 0.73316708 0.51371571 0.9525     0.87      ]\n",
            "0.8154170822942642\n"
          ],
          "name": "stdout"
        }
      ]
    },
    {
      "cell_type": "code",
      "metadata": {
        "id": "9-7MiXt3OnAo",
        "colab": {
          "base_uri": "https://localhost:8080/"
        },
        "outputId": "394547eb-c706-475d-899a-9f256b0e27b2"
      },
      "source": [
        "from sklearn.model_selection import RandomizedSearchCV\n",
        "\n",
        "kernel = ['linear']\n",
        "C = [0.001, 0.01, 0.1, 1, 2]\n",
        "gamma = [0.001, 0.01, 0.1, 1, 2]\n",
        "\n",
        "random_grid = {'kernel': kernel,\n",
        "               'C': C,\n",
        "               'gamma': gamma,\n",
        "               }\n",
        "print(random_grid)"
      ],
      "execution_count": null,
      "outputs": [
        {
          "output_type": "stream",
          "text": [
            "{'kernel': ['linear'], 'C': [0.001, 0.01, 0.1, 1, 2], 'gamma': [0.001, 0.01, 0.1, 1, 2]}\n"
          ],
          "name": "stdout"
        }
      ]
    },
    {
      "cell_type": "code",
      "metadata": {
        "id": "NEcN30KWOnC6",
        "colab": {
          "base_uri": "https://localhost:8080/"
        },
        "outputId": "a1ac320d-d278-412d-a6b8-7f616a4bd4fb"
      },
      "source": [
        "sv=SVC()\n",
        "sv_randomcv=RandomizedSearchCV(estimator=sv,param_distributions=random_grid,cv=3,verbose=2,\n",
        "                               random_state=100,n_jobs=-1)\n",
        "sv_randomcv.fit(X,y)"
      ],
      "execution_count": null,
      "outputs": [
        {
          "output_type": "stream",
          "text": [
            "Fitting 3 folds for each of 10 candidates, totalling 30 fits\n"
          ],
          "name": "stdout"
        },
        {
          "output_type": "stream",
          "text": [
            "[Parallel(n_jobs=-1)]: Using backend LokyBackend with 2 concurrent workers.\n",
            "[Parallel(n_jobs=-1)]: Done  30 out of  30 | elapsed: 12.7min finished\n"
          ],
          "name": "stderr"
        },
        {
          "output_type": "execute_result",
          "data": {
            "text/plain": [
              "RandomizedSearchCV(cv=3, error_score=nan,\n",
              "                   estimator=SVC(C=1.0, break_ties=False, cache_size=200,\n",
              "                                 class_weight=None, coef0=0.0,\n",
              "                                 decision_function_shape='ovr', degree=3,\n",
              "                                 gamma='scale', kernel='rbf', max_iter=-1,\n",
              "                                 probability=False, random_state=None,\n",
              "                                 shrinking=True, tol=0.001, verbose=False),\n",
              "                   iid='deprecated', n_iter=10, n_jobs=-1,\n",
              "                   param_distributions={'C': [0.001, 0.01, 0.1, 1, 2],\n",
              "                                        'gamma': [0.001, 0.01, 0.1, 1, 2],\n",
              "                                        'kernel': ['linear']},\n",
              "                   pre_dispatch='2*n_jobs', random_state=100, refit=True,\n",
              "                   return_train_score=False, scoring=None, verbose=2)"
            ]
          },
          "metadata": {
            "tags": []
          },
          "execution_count": 34
        }
      ]
    },
    {
      "cell_type": "code",
      "metadata": {
        "colab": {
          "base_uri": "https://localhost:8080/"
        },
        "id": "J3oZs4jeO-SK",
        "outputId": "17996c59-f96d-437c-ff46-36f8aaf59f45"
      },
      "source": [
        "sv_randomcv.best_estimator_"
      ],
      "execution_count": null,
      "outputs": [
        {
          "output_type": "execute_result",
          "data": {
            "text/plain": [
              "SVC(C=2, break_ties=False, cache_size=200, class_weight=None, coef0=0.0,\n",
              "    decision_function_shape='ovr', degree=3, gamma=0.1, kernel='linear',\n",
              "    max_iter=-1, probability=False, random_state=None, shrinking=True,\n",
              "    tol=0.001, verbose=False)"
            ]
          },
          "metadata": {
            "tags": []
          },
          "execution_count": 35
        }
      ]
    },
    {
      "cell_type": "code",
      "metadata": {
        "id": "qgurMMfTO5b5",
        "colab": {
          "base_uri": "https://localhost:8080/"
        },
        "outputId": "62ca816b-6893-4b45-9bd3-01435020c87e"
      },
      "source": [
        "sv_randomcv.best_params_"
      ],
      "execution_count": null,
      "outputs": [
        {
          "output_type": "execute_result",
          "data": {
            "text/plain": [
              "{'C': 2, 'gamma': 0.1, 'kernel': 'linear'}"
            ]
          },
          "metadata": {
            "tags": []
          },
          "execution_count": 36
        }
      ]
    },
    {
      "cell_type": "code",
      "metadata": {
        "id": "SyS85FWa0Bn7"
      },
      "source": [
        "from sklearn.svm import SVC\n",
        "model = SVC(C=2, break_ties=False, cache_size=200, class_weight=None, coef0=0.0,\n",
        "    decision_function_shape='ovr', degree=3, gamma=0.1, kernel='linear',\n",
        "    max_iter=-1, probability=False, random_state=None, shrinking=True,\n",
        "    tol=0.001, verbose=False)\n",
        "model.fit(X,y)\n",
        "predictions = model.predict(test_dataset)"
      ],
      "execution_count": null,
      "outputs": []
    },
    {
      "cell_type": "code",
      "metadata": {
        "colab": {
          "base_uri": "https://localhost:8080/"
        },
        "id": "e6wVbxix0B2o",
        "outputId": "811e14e5-88ae-4d49-d24c-5f732f67c550"
      },
      "source": [
        "print(confusion_matrix(test['Package'],predictions))\n",
        "print(accuracy_score(test['Package'],predictions))\n",
        "print(classification_report(test['Package'],predictions))"
      ],
      "execution_count": null,
      "outputs": [
        {
          "output_type": "stream",
          "text": [
            "[[36  0  0  0  0  0  0  0  0  0  1  0]\n",
            " [ 2  8  0  0  0  0  0  0  0  0  0  0]\n",
            " [ 2  0 20  0  1  0  0  0  0  0  0  0]\n",
            " [ 1  0  1  2  0  2  0  2  0  0  1  0]\n",
            " [ 2  0  0  0  4  0  0  0  0  0  0  2]\n",
            " [ 1  0  0  1  0 10  3  0  0  7  0  0]\n",
            " [ 0  0  0  0  0  2  4  0  0  4  0  0]\n",
            " [ 1  0  0  0  0  0  0 15  0  0  0  0]\n",
            " [ 0  0  0  0  0  0  0  0  8  0  0  0]\n",
            " [ 0  0  0  1  0  5  4  0  0 26  0  0]\n",
            " [ 0  1  0  0  0  1  0  0  0  0  2  3]\n",
            " [ 1  0  0  0  2  0  0  0  0  0  0 13]]\n",
            "0.7326732673267327\n",
            "              precision    recall  f1-score   support\n",
            "\n",
            "           0       0.78      0.97      0.87        37\n",
            "           1       0.89      0.80      0.84        10\n",
            "           2       0.95      0.87      0.91        23\n",
            "           3       0.50      0.22      0.31         9\n",
            "           4       0.57      0.50      0.53         8\n",
            "           5       0.50      0.45      0.48        22\n",
            "           6       0.36      0.40      0.38        10\n",
            "           7       0.88      0.94      0.91        16\n",
            "           8       1.00      1.00      1.00         8\n",
            "           9       0.70      0.72      0.71        36\n",
            "          10       0.50      0.29      0.36         7\n",
            "          11       0.72      0.81      0.76        16\n",
            "\n",
            "    accuracy                           0.73       202\n",
            "   macro avg       0.70      0.66      0.67       202\n",
            "weighted avg       0.72      0.73      0.72       202\n",
            "\n"
          ],
          "name": "stdout"
        }
      ]
    },
    {
      "cell_type": "code",
      "metadata": {
        "colab": {
          "base_uri": "https://localhost:8080/"
        },
        "id": "4_EvAfTf0Bt6",
        "outputId": "610849a9-f268-4d99-88a9-14bc9ca368bf"
      },
      "source": [
        "kfold_validation=KFold(10)\n",
        "results=cross_val_score(model,X,y,cv=kfold_validation)\n",
        "print(results)\n",
        "print(np.mean(results))"
      ],
      "execution_count": null,
      "outputs": [
        {
          "output_type": "stream",
          "text": [
            "[0.85037406 0.8478803  0.8478803  0.82294264 0.88279302 0.86783042\n",
            " 0.78054863 0.5436409  0.9525     0.8425    ]\n",
            "0.8238890274314213\n"
          ],
          "name": "stdout"
        }
      ]
    },
    {
      "cell_type": "markdown",
      "metadata": {
        "id": "awbpzp76TDqs"
      },
      "source": [
        "# Multinomial Naive Bayes"
      ]
    },
    {
      "cell_type": "code",
      "metadata": {
        "id": "d8-wHYV9TDqt"
      },
      "source": [
        "from sklearn.naive_bayes import MultinomialNB\n",
        "classifier=MultinomialNB(alpha=1)\n",
        "classifier.fit(X,y)\n",
        "predictions = classifier.predict(test_dataset)"
      ],
      "execution_count": null,
      "outputs": []
    },
    {
      "cell_type": "code",
      "metadata": {
        "colab": {
          "base_uri": "https://localhost:8080/"
        },
        "id": "seLLeMtzTDqt",
        "outputId": "6f4abcba-fa07-460f-8e43-6a4be8da28f3"
      },
      "source": [
        "print(confusion_matrix(test['Package'],predictions))\n",
        "print(accuracy_score(test['Package'],predictions))\n",
        "print(classification_report(test['Package'],predictions))"
      ],
      "execution_count": null,
      "outputs": [
        {
          "output_type": "stream",
          "text": [
            "[[30  1  0  2  1  0  1  0  0  0  2  0]\n",
            " [ 0  9  0  0  0  0  0  0  0  0  1  0]\n",
            " [ 1  0 15  2  2  0  0  0  0  0  2  1]\n",
            " [ 1  0  1  4  0  1  0  1  0  0  1  0]\n",
            " [ 1  0  0  0  5  0  0  0  0  0  0  2]\n",
            " [ 1  0  0  2  0 10  2  0  0  6  1  0]\n",
            " [ 0  0  0  0  0  1  8  0  0  1  0  0]\n",
            " [ 0  0  0  0  1  0  0 15  0  0  0  0]\n",
            " [ 0  0  0  0  0  0  0  0  8  0  0  0]\n",
            " [ 0  1  0  1  0  5  5  0  0 24  0  0]\n",
            " [ 0  0  0  0  0  1  0  0  0  0  3  3]\n",
            " [ 0  0  0  0  2  0  0  0  0  0  0 14]]\n",
            "0.7178217821782178\n",
            "              precision    recall  f1-score   support\n",
            "\n",
            "           0       0.88      0.81      0.85        37\n",
            "           1       0.82      0.90      0.86        10\n",
            "           2       0.94      0.65      0.77        23\n",
            "           3       0.36      0.44      0.40         9\n",
            "           4       0.45      0.62      0.53         8\n",
            "           5       0.56      0.45      0.50        22\n",
            "           6       0.50      0.80      0.62        10\n",
            "           7       0.94      0.94      0.94        16\n",
            "           8       1.00      1.00      1.00         8\n",
            "           9       0.77      0.67      0.72        36\n",
            "          10       0.30      0.43      0.35         7\n",
            "          11       0.70      0.88      0.78        16\n",
            "\n",
            "    accuracy                           0.72       202\n",
            "   macro avg       0.69      0.72      0.69       202\n",
            "weighted avg       0.75      0.72      0.72       202\n",
            "\n"
          ],
          "name": "stdout"
        }
      ]
    },
    {
      "cell_type": "code",
      "metadata": {
        "colab": {
          "base_uri": "https://localhost:8080/"
        },
        "id": "hQ3p8EUvWSht",
        "outputId": "3699e071-36b7-443a-8982-8d5cfcb56f85"
      },
      "source": [
        "kfold_validation=KFold(10)\n",
        "results=cross_val_score(classifier,X,y,cv=kfold_validation,)\n",
        "print(results)\n",
        "print(np.mean(results))"
      ],
      "execution_count": null,
      "outputs": [
        {
          "output_type": "stream",
          "text": [
            "[0.72817955 0.74563591 0.72568579 0.70074813 0.69326683 0.48379052\n",
            " 0.28927681 0.33167082 0.765      0.6025    ]\n",
            "0.6065754364089775\n"
          ],
          "name": "stdout"
        }
      ]
    },
    {
      "cell_type": "code",
      "metadata": {
        "colab": {
          "base_uri": "https://localhost:8080/"
        },
        "id": "sRoHj2MZbMPg",
        "outputId": "2f5083e7-c5d1-41c1-e517-ed1821d0fa65"
      },
      "source": [
        "alpha = [0.001, 0.002, 0.003, 0.004, 0.005, 0.006, 0.007, 0.008, 0.009, \n",
        "         0.01, 0.02, 0.03, 0.04, 0.05, 0.06, 0.07, 0.08, 0.09, \n",
        "         0.1, 0.2, 0.3, 0.4, 0.5, 0.6, 0.7, 0.8, 0.9, 1.0]\n",
        "\n",
        "random_grid = {'alpha': alpha\n",
        "               }\n",
        "print(random_grid)"
      ],
      "execution_count": null,
      "outputs": [
        {
          "output_type": "stream",
          "text": [
            "{'alpha': [0.001, 0.002, 0.003, 0.004, 0.005, 0.006, 0.007, 0.008, 0.009, 0.01, 0.02, 0.03, 0.04, 0.05, 0.06, 0.07, 0.08, 0.09, 0.1, 0.2, 0.3, 0.4, 0.5, 0.6, 0.7, 0.8, 0.9, 1.0]}\n"
          ],
          "name": "stdout"
        }
      ]
    },
    {
      "cell_type": "code",
      "metadata": {
        "id": "Ulh8EWUDbMSL",
        "colab": {
          "base_uri": "https://localhost:8080/"
        },
        "outputId": "6ced696b-57f8-41b9-cc86-01183695e4e1"
      },
      "source": [
        "mnb=MultinomialNB()\n",
        "mnb_randomcv=RandomizedSearchCV(estimator=mnb,param_distributions=random_grid,cv=3,verbose=2,\n",
        "                               random_state=100,n_jobs=-1)\n",
        "mnb_randomcv.fit(X,y)"
      ],
      "execution_count": null,
      "outputs": [
        {
          "output_type": "stream",
          "text": [
            "Fitting 3 folds for each of 10 candidates, totalling 30 fits\n"
          ],
          "name": "stdout"
        },
        {
          "output_type": "stream",
          "text": [
            "[Parallel(n_jobs=-1)]: Using backend LokyBackend with 2 concurrent workers.\n",
            "[Parallel(n_jobs=-1)]: Done  30 out of  30 | elapsed:    2.9s finished\n"
          ],
          "name": "stderr"
        },
        {
          "output_type": "execute_result",
          "data": {
            "text/plain": [
              "RandomizedSearchCV(cv=3, error_score=nan,\n",
              "                   estimator=MultinomialNB(alpha=1.0, class_prior=None,\n",
              "                                           fit_prior=True),\n",
              "                   iid='deprecated', n_iter=10, n_jobs=-1,\n",
              "                   param_distributions={'alpha': [0.001, 0.002, 0.003, 0.004,\n",
              "                                                  0.005, 0.006, 0.007, 0.008,\n",
              "                                                  0.009, 0.01, 0.02, 0.03, 0.04,\n",
              "                                                  0.05, 0.06, 0.07, 0.08, 0.09,\n",
              "                                                  0.1, 0.2, 0.3, 0.4, 0.5, 0.6,\n",
              "                                                  0.7, 0.8, 0.9, 1.0]},\n",
              "                   pre_dispatch='2*n_jobs', random_state=100, refit=True,\n",
              "                   return_train_score=False, scoring=None, verbose=2)"
            ]
          },
          "metadata": {
            "tags": []
          },
          "execution_count": 78
        }
      ]
    },
    {
      "cell_type": "code",
      "metadata": {
        "id": "V30sDosbbMVK",
        "colab": {
          "base_uri": "https://localhost:8080/"
        },
        "outputId": "0763acb5-b870-46b3-be1d-053af25f324c"
      },
      "source": [
        "mnb_randomcv.best_estimator_"
      ],
      "execution_count": null,
      "outputs": [
        {
          "output_type": "execute_result",
          "data": {
            "text/plain": [
              "MultinomialNB(alpha=0.006, class_prior=None, fit_prior=True)"
            ]
          },
          "metadata": {
            "tags": []
          },
          "execution_count": 79
        }
      ]
    },
    {
      "cell_type": "code",
      "metadata": {
        "colab": {
          "base_uri": "https://localhost:8080/"
        },
        "id": "AeNS3lEHdwXP",
        "outputId": "c5ab28d0-bca1-4746-efa3-7159320e7831"
      },
      "source": [
        "mnb_randomcv.best_params_"
      ],
      "execution_count": null,
      "outputs": [
        {
          "output_type": "execute_result",
          "data": {
            "text/plain": [
              "{'alpha': 0.006}"
            ]
          },
          "metadata": {
            "tags": []
          },
          "execution_count": 80
        }
      ]
    },
    {
      "cell_type": "code",
      "metadata": {
        "id": "PBFsEffkMH53"
      },
      "source": [
        "classifier=MultinomialNB (alpha=0.006,fit_prior=True,class_prior=None)\n",
        "classifier.fit(X,y)\n",
        "predictions = classifier.predict(test_dataset)"
      ],
      "execution_count": null,
      "outputs": []
    },
    {
      "cell_type": "code",
      "metadata": {
        "colab": {
          "base_uri": "https://localhost:8080/"
        },
        "id": "JR2dYAN1MH8_",
        "outputId": "4da14f2a-a963-4384-db24-86619baf3c80"
      },
      "source": [
        "print(confusion_matrix(test['Package'],predictions))\n",
        "print(accuracy_score(test['Package'],predictions))\n",
        "print(classification_report(test['Package'],predictions))"
      ],
      "execution_count": null,
      "outputs": [
        {
          "output_type": "stream",
          "text": [
            "[[34  0  0  2  0  0  0  0  0  0  1  0]\n",
            " [ 1  8  0  0  0  1  0  0  0  0  0  0]\n",
            " [ 2  0 19  0  1  1  0  0  0  0  0  0]\n",
            " [ 1  0  1  3  0  1  0  2  0  0  1  0]\n",
            " [ 1  0  0  0  5  0  0  0  0  0  0  2]\n",
            " [ 0  0  0  1  0 10  3  0  0  7  0  1]\n",
            " [ 0  0  0  0  0  1  5  0  0  4  0  0]\n",
            " [ 0  0  0  0  0  0  0 16  0  0  0  0]\n",
            " [ 0  0  0  0  0  0  0  0  8  0  0  0]\n",
            " [ 0  0  0  1  0  5  4  0  0 26  0  0]\n",
            " [ 0  1  0  0  0  1  0  0  0  0  2  3]\n",
            " [ 0  0  0  0  2  0  0  0  0  0  0 14]]\n",
            "0.7425742574257426\n",
            "              precision    recall  f1-score   support\n",
            "\n",
            "           0       0.87      0.92      0.89        37\n",
            "           1       0.89      0.80      0.84        10\n",
            "           2       0.95      0.83      0.88        23\n",
            "           3       0.43      0.33      0.38         9\n",
            "           4       0.62      0.62      0.62         8\n",
            "           5       0.50      0.45      0.48        22\n",
            "           6       0.42      0.50      0.45        10\n",
            "           7       0.89      1.00      0.94        16\n",
            "           8       1.00      1.00      1.00         8\n",
            "           9       0.70      0.72      0.71        36\n",
            "          10       0.50      0.29      0.36         7\n",
            "          11       0.70      0.88      0.78        16\n",
            "\n",
            "    accuracy                           0.74       202\n",
            "   macro avg       0.71      0.70      0.70       202\n",
            "weighted avg       0.74      0.74      0.74       202\n",
            "\n"
          ],
          "name": "stdout"
        }
      ]
    },
    {
      "cell_type": "code",
      "metadata": {
        "id": "d5_G1bbQMIA7",
        "colab": {
          "base_uri": "https://localhost:8080/"
        },
        "outputId": "2a5a9e60-8338-436c-f497-6312df70e6c8"
      },
      "source": [
        "kfold_validation=KFold(10)\n",
        "results=cross_val_score(classifier,X,y,cv=kfold_validation)\n",
        "print(results)\n",
        "print(np.mean(results))"
      ],
      "execution_count": null,
      "outputs": [
        {
          "output_type": "stream",
          "text": [
            "[0.85785536 0.86284289 0.840399   0.81546135 0.89775561 0.94014963\n",
            " 0.93765586 0.97256858 0.975      0.945     ]\n",
            "0.9044688279301745\n"
          ],
          "name": "stdout"
        }
      ]
    },
    {
      "cell_type": "markdown",
      "metadata": {
        "id": "pYf9TNqCTDqu"
      },
      "source": [
        "# DecisionTreeClassifier"
      ]
    },
    {
      "cell_type": "code",
      "metadata": {
        "id": "b2DdrG9cTDqu"
      },
      "source": [
        "from sklearn.tree import DecisionTreeClassifier\n",
        "dtreeclassifier=DecisionTreeClassifier()\n",
        "dtreeclassifier.fit(X,y)\n",
        "predictions = dtreeclassifier.predict(test_dataset)"
      ],
      "execution_count": null,
      "outputs": []
    },
    {
      "cell_type": "code",
      "metadata": {
        "colab": {
          "base_uri": "https://localhost:8080/"
        },
        "id": "c8_-atHZTDqv",
        "outputId": "5b49cbcc-0261-4410-b708-d719bf22e034"
      },
      "source": [
        "print(confusion_matrix(test['Package'],predictions))\n",
        "print(accuracy_score(test['Package'],predictions))\n",
        "print(classification_report(test['Package'],predictions))"
      ],
      "execution_count": null,
      "outputs": [
        {
          "output_type": "stream",
          "text": [
            "[[28  0  3  0  0  2  1  0  0  2  1  0]\n",
            " [ 1  7  0  0  0  1  0  0  0  0  0  1]\n",
            " [ 3  1 13  0  2  1  0  0  0  1  0  2]\n",
            " [ 1  1  1  3  0  1  0  2  0  0  0  0]\n",
            " [ 1  0  2  0  4  0  0  0  0  0  0  1]\n",
            " [ 3  0  0  2  0  7  2  0  0  7  0  1]\n",
            " [ 0  0  1  0  0  2  2  0  0  5  0  0]\n",
            " [ 3  0  0  0  0  0  0 10  0  2  1  0]\n",
            " [ 0  0  0  0  0  0  0  0  7  1  0  0]\n",
            " [ 4  0  0  1  1  6  5  0  0 19  0  0]\n",
            " [ 1  1  0  0  0  1  0  0  0  0  0  4]\n",
            " [ 2  0  0  0  3  0  0  0  0  1  1  9]]\n",
            "0.5396039603960396\n",
            "              precision    recall  f1-score   support\n",
            "\n",
            "           0       0.60      0.76      0.67        37\n",
            "           1       0.70      0.70      0.70        10\n",
            "           2       0.65      0.57      0.60        23\n",
            "           3       0.50      0.33      0.40         9\n",
            "           4       0.40      0.50      0.44         8\n",
            "           5       0.33      0.32      0.33        22\n",
            "           6       0.20      0.20      0.20        10\n",
            "           7       0.83      0.62      0.71        16\n",
            "           8       1.00      0.88      0.93         8\n",
            "           9       0.50      0.53      0.51        36\n",
            "          10       0.00      0.00      0.00         7\n",
            "          11       0.50      0.56      0.53        16\n",
            "\n",
            "    accuracy                           0.54       202\n",
            "   macro avg       0.52      0.50      0.50       202\n",
            "weighted avg       0.54      0.54      0.53       202\n",
            "\n"
          ],
          "name": "stdout"
        }
      ]
    },
    {
      "cell_type": "code",
      "metadata": {
        "colab": {
          "base_uri": "https://localhost:8080/"
        },
        "id": "_cHFKrt_TDqv",
        "outputId": "96d1eed6-be35-4e4f-e013-0c43cb86db39"
      },
      "source": [
        "kfold_validation=KFold(10)\n",
        "results=cross_val_score(classifier,X,y,cv=kfold_validation)\n",
        "print(results)\n",
        "print(np.mean(results))"
      ],
      "execution_count": null,
      "outputs": [
        {
          "output_type": "stream",
          "text": [
            "[0.85785536 0.86284289 0.840399   0.81546135 0.89775561 0.94014963\n",
            " 0.93765586 0.97256858 0.975      0.945     ]\n",
            "0.9044688279301745\n"
          ],
          "name": "stdout"
        }
      ]
    },
    {
      "cell_type": "code",
      "metadata": {
        "colab": {
          "base_uri": "https://localhost:8080/"
        },
        "id": "-4SM733ZicBV",
        "outputId": "fffd9533-00ab-46d7-dfe8-c74a547229f1"
      },
      "source": [
        "criterion = ['gini','entropy']\n",
        "splitter = ['best','random']\n",
        "\n",
        "random_grid = {'criterion': criterion,\n",
        "               'splitter': splitter,\n",
        "               }\n",
        "print(random_grid)"
      ],
      "execution_count": null,
      "outputs": [
        {
          "output_type": "stream",
          "text": [
            "{'criterion': ['gini', 'entropy'], 'splitter': ['best', 'random']}\n"
          ],
          "name": "stdout"
        }
      ]
    },
    {
      "cell_type": "code",
      "metadata": {
        "colab": {
          "base_uri": "https://localhost:8080/"
        },
        "id": "7rYhcavBicDN",
        "outputId": "f8e869c0-3a00-4a19-e986-ad64308ae31e"
      },
      "source": [
        "dtree=DecisionTreeClassifier()\n",
        "dtree_randomcv=RandomizedSearchCV(estimator=dtree,param_distributions=random_grid,cv=3,verbose=2,\n",
        "                               random_state=100,n_jobs=-1)\n",
        "dtree_randomcv.fit(X,y)"
      ],
      "execution_count": null,
      "outputs": [
        {
          "output_type": "stream",
          "text": [
            "Fitting 3 folds for each of 4 candidates, totalling 12 fits\n"
          ],
          "name": "stdout"
        },
        {
          "output_type": "stream",
          "text": [
            "/usr/local/lib/python3.7/dist-packages/sklearn/model_selection/_search.py:281: UserWarning: The total space of parameters 4 is smaller than n_iter=10. Running 4 iterations. For exhaustive searches, use GridSearchCV.\n",
            "  % (grid_size, self.n_iter, grid_size), UserWarning)\n",
            "[Parallel(n_jobs=-1)]: Using backend LokyBackend with 2 concurrent workers.\n",
            "[Parallel(n_jobs=-1)]: Done  12 out of  12 | elapsed:   59.8s finished\n"
          ],
          "name": "stderr"
        },
        {
          "output_type": "execute_result",
          "data": {
            "text/plain": [
              "RandomizedSearchCV(cv=3, error_score=nan,\n",
              "                   estimator=DecisionTreeClassifier(ccp_alpha=0.0,\n",
              "                                                    class_weight=None,\n",
              "                                                    criterion='gini',\n",
              "                                                    max_depth=None,\n",
              "                                                    max_features=None,\n",
              "                                                    max_leaf_nodes=None,\n",
              "                                                    min_impurity_decrease=0.0,\n",
              "                                                    min_impurity_split=None,\n",
              "                                                    min_samples_leaf=1,\n",
              "                                                    min_samples_split=2,\n",
              "                                                    min_weight_fraction_leaf=0.0,\n",
              "                                                    presort='deprecated',\n",
              "                                                    random_state=None,\n",
              "                                                    splitter='best'),\n",
              "                   iid='deprecated', n_iter=10, n_jobs=-1,\n",
              "                   param_distributions={'criterion': ['gini', 'entropy'],\n",
              "                                        'splitter': ['best', 'random']},\n",
              "                   pre_dispatch='2*n_jobs', random_state=100, refit=True,\n",
              "                   return_train_score=False, scoring=None, verbose=2)"
            ]
          },
          "metadata": {
            "tags": []
          },
          "execution_count": 88
        }
      ]
    },
    {
      "cell_type": "code",
      "metadata": {
        "colab": {
          "base_uri": "https://localhost:8080/"
        },
        "id": "zW2aMqyzicJE",
        "outputId": "01ae1165-5cd2-43a0-a843-e59cc3bed8ec"
      },
      "source": [
        "dtree_randomcv.best_estimator_"
      ],
      "execution_count": null,
      "outputs": [
        {
          "output_type": "execute_result",
          "data": {
            "text/plain": [
              "DecisionTreeClassifier(ccp_alpha=0.0, class_weight=None, criterion='gini',\n",
              "                       max_depth=None, max_features=None, max_leaf_nodes=None,\n",
              "                       min_impurity_decrease=0.0, min_impurity_split=None,\n",
              "                       min_samples_leaf=1, min_samples_split=2,\n",
              "                       min_weight_fraction_leaf=0.0, presort='deprecated',\n",
              "                       random_state=None, splitter='random')"
            ]
          },
          "metadata": {
            "tags": []
          },
          "execution_count": 89
        }
      ]
    },
    {
      "cell_type": "code",
      "metadata": {
        "colab": {
          "base_uri": "https://localhost:8080/"
        },
        "id": "nuNn6n3TijSj",
        "outputId": "13f82466-e534-4914-8b85-50f5156f84e0"
      },
      "source": [
        "dtree_randomcv.best_params_"
      ],
      "execution_count": null,
      "outputs": [
        {
          "output_type": "execute_result",
          "data": {
            "text/plain": [
              "{'criterion': 'gini', 'splitter': 'random'}"
            ]
          },
          "metadata": {
            "tags": []
          },
          "execution_count": 90
        }
      ]
    },
    {
      "cell_type": "code",
      "metadata": {
        "id": "4QLmY588Q3uh"
      },
      "source": [
        "dtreeclassifier=DecisionTreeClassifier(ccp_alpha=0.0, class_weight=None, criterion='gini',\n",
        "                       max_depth=None, max_features=None, max_leaf_nodes=None,\n",
        "                       min_impurity_decrease=0.0, min_impurity_split=None,\n",
        "                       min_samples_leaf=1, min_samples_split=2,\n",
        "                       min_weight_fraction_leaf=0.0, presort='deprecated',\n",
        "                       random_state=None, splitter='random')\n",
        "dtreeclassifier.fit(X,y)\n",
        "predictions = dtreeclassifier.predict(test_dataset)"
      ],
      "execution_count": null,
      "outputs": []
    },
    {
      "cell_type": "code",
      "metadata": {
        "colab": {
          "base_uri": "https://localhost:8080/"
        },
        "id": "2UTWgiFFQ6xF",
        "outputId": "ce7427fa-e013-4203-d70a-3db27b4b4c52"
      },
      "source": [
        "print(confusion_matrix(test['Package'],predictions))\n",
        "print(accuracy_score(test['Package'],predictions))\n",
        "print(classification_report(test['Package'],predictions))"
      ],
      "execution_count": null,
      "outputs": [
        {
          "output_type": "stream",
          "text": [
            "[[26  1  4  0  0  4  0  0  0  1  1  0]\n",
            " [ 1  8  0  0  0  0  0  0  0  1  0  0]\n",
            " [ 2  0 17  2  1  0  0  1  0  0  0  0]\n",
            " [ 2  0  1  2  0  2  0  2  0  0  0  0]\n",
            " [ 2  0  0  0  4  1  0  0  0  0  0  1]\n",
            " [ 2  1  0  2  0  8  2  0  0  6  0  1]\n",
            " [ 1  0  0  0  0  4  2  0  0  3  0  0]\n",
            " [ 0  0  2  0  0  3  0  9  0  1  0  1]\n",
            " [ 1  0  0  0  0  0  0  0  7  0  0  0]\n",
            " [ 2  1  1  1  0  8  3  0  0 20  0  0]\n",
            " [ 0  1  0  0  0  1  0  0  0  0  1  4]\n",
            " [ 0  0  0  1  3  2  0  0  0  2  0  8]]\n",
            "0.5544554455445545\n",
            "              precision    recall  f1-score   support\n",
            "\n",
            "           0       0.67      0.70      0.68        37\n",
            "           1       0.67      0.80      0.73        10\n",
            "           2       0.68      0.74      0.71        23\n",
            "           3       0.25      0.22      0.24         9\n",
            "           4       0.50      0.50      0.50         8\n",
            "           5       0.24      0.36      0.29        22\n",
            "           6       0.29      0.20      0.24        10\n",
            "           7       0.75      0.56      0.64        16\n",
            "           8       1.00      0.88      0.93         8\n",
            "           9       0.59      0.56      0.57        36\n",
            "          10       0.50      0.14      0.22         7\n",
            "          11       0.53      0.50      0.52        16\n",
            "\n",
            "    accuracy                           0.55       202\n",
            "   macro avg       0.56      0.51      0.52       202\n",
            "weighted avg       0.57      0.55      0.55       202\n",
            "\n"
          ],
          "name": "stdout"
        }
      ]
    },
    {
      "cell_type": "code",
      "metadata": {
        "id": "tOVCDMggQ99u",
        "colab": {
          "base_uri": "https://localhost:8080/"
        },
        "outputId": "1f207cbd-5fd7-477e-85e3-e55f3536e2b2"
      },
      "source": [
        "kfold_validation=KFold(10)\n",
        "results=cross_val_score(classifier,X,y,cv=kfold_validation)\n",
        "print(results)\n",
        "print(np.mean(results))"
      ],
      "execution_count": null,
      "outputs": [
        {
          "output_type": "stream",
          "text": [
            "[0.85785536 0.86284289 0.840399   0.81546135 0.89775561 0.94014963\n",
            " 0.93765586 0.97256858 0.975      0.945     ]\n",
            "0.9044688279301745\n"
          ],
          "name": "stdout"
        }
      ]
    },
    {
      "cell_type": "markdown",
      "metadata": {
        "id": "5MUVp6qYTDqv"
      },
      "source": [
        "# KNeighborsClassifier"
      ]
    },
    {
      "cell_type": "code",
      "metadata": {
        "id": "g_Lc1BCmTDqw"
      },
      "source": [
        "from sklearn.neighbors import KNeighborsClassifier\n",
        "knn = KNeighborsClassifier(n_neighbors=2)\n",
        "knn.fit(X,y)\n",
        "predictions = knn.predict(test_dataset)"
      ],
      "execution_count": null,
      "outputs": []
    },
    {
      "cell_type": "code",
      "metadata": {
        "colab": {
          "base_uri": "https://localhost:8080/"
        },
        "id": "lWbx9PyxTDqw",
        "outputId": "d2821a6e-0d75-40b1-cf72-409464ae4a3a"
      },
      "source": [
        "print(confusion_matrix(test['Package'],predictions))\n",
        "print(accuracy_score(test['Package'],predictions))\n",
        "print(classification_report(test['Package'],predictions))"
      ],
      "execution_count": null,
      "outputs": [
        {
          "output_type": "stream",
          "text": [
            "[[ 9  3  2 10  7  1  0  0  0  0  5  0]\n",
            " [ 0  9  0  0  0  1  0  0  0  0  0  0]\n",
            " [ 1  0 14  2  2  0  1  0  0  0  2  1]\n",
            " [ 0  0  1  5  1  2  0  0  0  0  0  0]\n",
            " [ 0  0  1  1  5  0  0  0  0  0  0  1]\n",
            " [ 1  0  0  2  1 11  4  0  0  3  0  0]\n",
            " [ 0  0  0  2  0  1  7  0  0  0  0  0]\n",
            " [ 0  0  2  0  0  0  1 13  0  0  0  0]\n",
            " [ 0  0  0  1  0  0  0  0  7  0  0  0]\n",
            " [ 0  0  2 10  1  6  8  1  0  7  1  0]\n",
            " [ 0  1  0  1  0  1  0  0  0  0  1  3]\n",
            " [ 0  0  0  2  3  0  0  0  0  0  0 11]]\n",
            "0.4900990099009901\n",
            "              precision    recall  f1-score   support\n",
            "\n",
            "           0       0.82      0.24      0.38        37\n",
            "           1       0.69      0.90      0.78        10\n",
            "           2       0.64      0.61      0.62        23\n",
            "           3       0.14      0.56      0.22         9\n",
            "           4       0.25      0.62      0.36         8\n",
            "           5       0.48      0.50      0.49        22\n",
            "           6       0.33      0.70      0.45        10\n",
            "           7       0.93      0.81      0.87        16\n",
            "           8       1.00      0.88      0.93         8\n",
            "           9       0.70      0.19      0.30        36\n",
            "          10       0.11      0.14      0.12         7\n",
            "          11       0.69      0.69      0.69        16\n",
            "\n",
            "    accuracy                           0.49       202\n",
            "   macro avg       0.56      0.57      0.52       202\n",
            "weighted avg       0.64      0.49      0.50       202\n",
            "\n"
          ],
          "name": "stdout"
        }
      ]
    },
    {
      "cell_type": "code",
      "metadata": {
        "id": "jIMiPHU393qa"
      },
      "source": [
        "error_rate = []\n",
        "for i in range(1,40):\n",
        "    \n",
        "    knn = KNeighborsClassifier(n_neighbors=i)\n",
        "    knn.fit(X,y)\n",
        "    pred_i = knn.predict(test_dataset)\n",
        "    error_rate.append(np.mean(pred_i != test['Package']))  "
      ],
      "execution_count": null,
      "outputs": []
    },
    {
      "cell_type": "code",
      "metadata": {
        "colab": {
          "base_uri": "https://localhost:8080/",
          "height": 421
        },
        "id": "Zs8OM-m2932j",
        "outputId": "e632d194-dadf-4b51-a770-3aea13cbd3dc"
      },
      "source": [
        "plt.figure(figsize=(10,6))\n",
        "plt.plot(range(1,40),error_rate,color='blue', linestyle='dashed', marker='o',\n",
        "         markerfacecolor='red', markersize=10)\n",
        "plt.title('Error Rate vs. K Value')\n",
        "plt.xlabel('K')\n",
        "plt.ylabel('Error Rate')"
      ],
      "execution_count": null,
      "outputs": [
        {
          "output_type": "execute_result",
          "data": {
            "text/plain": [
              "Text(0, 0.5, 'Error Rate')"
            ]
          },
          "metadata": {
            "tags": []
          },
          "execution_count": 97
        },
        {
          "output_type": "display_data",
          "data": {
            "image/png": "[encoded data removed]",
            "text/plain": [
              "<Figure size 720x432 with 1 Axes>"
            ]
          },
          "metadata": {
            "tags": []
          }
        }
      ]
    },
    {
      "cell_type": "code",
      "metadata": {
        "id": "4cJ93rJyM_g4",
        "colab": {
          "base_uri": "https://localhost:8080/"
        },
        "outputId": "89438bbd-c936-4f91-c10d-5e7eb8336cb5"
      },
      "source": [
        "kfold_validation=KFold(10)\n",
        "results=cross_val_score(knn,X,y,cv=kfold_validation)\n",
        "print(results)\n",
        "print(np.mean(results))"
      ],
      "execution_count": null,
      "outputs": [
        {
          "output_type": "stream",
          "text": [
            "[0.41895262 0.3765586  0.36408978 0.36907731 0.22693267 0.14713217\n",
            " 0.06234414 0.12219451 0.2325     0.2275    ]\n",
            "0.2547281795511222\n"
          ],
          "name": "stdout"
        }
      ]
    },
    {
      "cell_type": "markdown",
      "metadata": {
        "id": "UF95xHXdTDqx"
      },
      "source": [
        "# PassiveAggressiveClassifier"
      ]
    },
    {
      "cell_type": "code",
      "metadata": {
        "id": "gXDD2dghTDqx"
      },
      "source": [
        "from sklearn.linear_model import PassiveAggressiveClassifier\n",
        "pclf = PassiveAggressiveClassifier()\n",
        "pclf.fit(X,y)\n",
        "predictions = pclf.predict(test_dataset)"
      ],
      "execution_count": null,
      "outputs": []
    },
    {
      "cell_type": "code",
      "metadata": {
        "colab": {
          "base_uri": "https://localhost:8080/"
        },
        "id": "8LoYKJRTTDqy",
        "outputId": "85c707f4-e901-49b5-c0b3-7f20608f0fad"
      },
      "source": [
        "print(confusion_matrix(test['Package'],predictions))\n",
        "print(accuracy_score(test['Package'],predictions))\n",
        "print(classification_report(test['Package'],predictions))"
      ],
      "execution_count": null,
      "outputs": [
        {
          "output_type": "stream",
          "text": [
            "[[34  0  0  2  0  0  0  0  0  0  1  0]\n",
            " [ 1  9  0  0  0  0  0  0  0  0  0  0]\n",
            " [ 2  0 19  0  1  0  0  0  0  0  1  0]\n",
            " [ 1  0  1  2  0  2  0  2  0  0  1  0]\n",
            " [ 1  0  0  0  5  0  0  0  0  0  0  2]\n",
            " [ 1  0  0  1  0 10  2  0  0  7  0  1]\n",
            " [ 0  0  0  0  0  2  5  0  0  3  0  0]\n",
            " [ 0  0  0  0  0  0  0 16  0  0  0  0]\n",
            " [ 0  0  0  0  0  0  0  0  8  0  0  0]\n",
            " [ 0  1  0  1  0  5  4  0  0 25  0  0]\n",
            " [ 0  1  0  0  0  1  0  0  0  0  2  3]\n",
            " [ 0  0  0  0  2  0  0  0  0  0  0 14]]\n",
            "0.7376237623762376\n",
            "              precision    recall  f1-score   support\n",
            "\n",
            "           0       0.85      0.92      0.88        37\n",
            "           1       0.82      0.90      0.86        10\n",
            "           2       0.95      0.83      0.88        23\n",
            "           3       0.33      0.22      0.27         9\n",
            "           4       0.62      0.62      0.62         8\n",
            "           5       0.50      0.45      0.48        22\n",
            "           6       0.45      0.50      0.48        10\n",
            "           7       0.89      1.00      0.94        16\n",
            "           8       1.00      1.00      1.00         8\n",
            "           9       0.71      0.69      0.70        36\n",
            "          10       0.40      0.29      0.33         7\n",
            "          11       0.70      0.88      0.78        16\n",
            "\n",
            "    accuracy                           0.74       202\n",
            "   macro avg       0.69      0.69      0.69       202\n",
            "weighted avg       0.73      0.74      0.73       202\n",
            "\n"
          ],
          "name": "stdout"
        }
      ]
    },
    {
      "cell_type": "code",
      "metadata": {
        "id": "lO7CYiXAulm7",
        "colab": {
          "base_uri": "https://localhost:8080/"
        },
        "outputId": "f5d9ecb0-efb1-405b-abcb-f4be2952c924"
      },
      "source": [
        "kfold_validation=KFold(10)\n",
        "results=cross_val_score(pclf,X,y,cv=kfold_validation)\n",
        "print(results)\n",
        "print(np.mean(results))"
      ],
      "execution_count": null,
      "outputs": [
        {
          "output_type": "stream",
          "text": [
            "[0.84289277 0.84289277 0.83291771 0.79551122 0.88029925 0.89526185\n",
            " 0.86533666 0.59102244 0.9675     0.8825    ]\n",
            "0.8396134663341644\n"
          ],
          "name": "stdout"
        }
      ]
    },
    {
      "cell_type": "code",
      "metadata": {
        "colab": {
          "base_uri": "https://localhost:8080/"
        },
        "id": "AP18Z2lJyiHv",
        "outputId": "921ab8f6-c207-4f0d-d239-6ea404e3290d"
      },
      "source": [
        "C = [ 0.01, 0.02, 0.03, 0.04, 0.05, 0.06, 0.07, 0.08, 0.09, \n",
        "         0.1, 0.2, 0.3, 0.4, 0.5, 0.6, 0.7, 0.8, 0.9, 1.0]\n",
        "n_iter_no_change= [5,6,7,8,9,10]\n",
        "max_iter= [2000]\n",
        "\n",
        "random_grid = {'C': C, \n",
        "               'n_iter_no_change': n_iter_no_change,     \n",
        "               'max_iter': max_iter,        \n",
        "               }\n",
        "print(random_grid)"
      ],
      "execution_count": null,
      "outputs": [
        {
          "output_type": "stream",
          "text": [
            "{'C': [0.01, 0.02, 0.03, 0.04, 0.05, 0.06, 0.07, 0.08, 0.09, 0.1, 0.2, 0.3, 0.4, 0.5, 0.6, 0.7, 0.8, 0.9, 1.0], 'n_iter_no_change': [5, 6, 7, 8, 9, 10], 'max_iter': [2000]}\n"
          ],
          "name": "stdout"
        }
      ]
    },
    {
      "cell_type": "code",
      "metadata": {
        "colab": {
          "base_uri": "https://localhost:8080/"
        },
        "id": "tbHa47ppyiXI",
        "outputId": "4f6cd83d-d6f6-47ab-9f41-9f599b08f64e"
      },
      "source": [
        "pclf2=PassiveAggressiveClassifier()\n",
        "pclf2_randomcv=RandomizedSearchCV(estimator=pclf2,param_distributions=random_grid,n_iter=100,cv=3,verbose=2,\n",
        "                               random_state=100,n_jobs=-1)\n",
        "pclf2_randomcv.fit(X,y)"
      ],
      "execution_count": null,
      "outputs": [
        {
          "output_type": "stream",
          "text": [
            "Fitting 3 folds for each of 100 candidates, totalling 300 fits\n"
          ],
          "name": "stdout"
        },
        {
          "output_type": "stream",
          "text": [
            "[Parallel(n_jobs=-1)]: Using backend LokyBackend with 2 concurrent workers.\n",
            "[Parallel(n_jobs=-1)]: Done  37 tasks      | elapsed:   29.7s\n",
            "[Parallel(n_jobs=-1)]: Done 158 tasks      | elapsed:  2.2min\n",
            "[Parallel(n_jobs=-1)]: Done 300 out of 300 | elapsed:  4.5min finished\n"
          ],
          "name": "stderr"
        },
        {
          "output_type": "execute_result",
          "data": {
            "text/plain": [
              "RandomizedSearchCV(cv=3, error_score=nan,\n",
              "                   estimator=PassiveAggressiveClassifier(C=1.0, average=False,\n",
              "                                                         class_weight=None,\n",
              "                                                         early_stopping=False,\n",
              "                                                         fit_intercept=True,\n",
              "                                                         loss='hinge',\n",
              "                                                         max_iter=1000,\n",
              "                                                         n_iter_no_change=5,\n",
              "                                                         n_jobs=None,\n",
              "                                                         random_state=None,\n",
              "                                                         shuffle=True,\n",
              "                                                         tol=0.001,\n",
              "                                                         validation_fraction=0.1,\n",
              "                                                         verbose=0,\n",
              "                                                         warm_start=False),\n",
              "                   iid='deprecated', n_iter=100, n_jobs=-1,\n",
              "                   param_distributions={'C': [0.01, 0.02, 0.03, 0.04, 0.05,\n",
              "                                              0.06, 0.07, 0.08, 0.09, 0.1, 0.2,\n",
              "                                              0.3, 0.4, 0.5, 0.6, 0.7, 0.8, 0.9,\n",
              "                                              1.0],\n",
              "                                        'max_iter': [2000],\n",
              "                                        'n_iter_no_change': [5, 6, 7, 8, 9,\n",
              "                                                             10]},\n",
              "                   pre_dispatch='2*n_jobs', random_state=100, refit=True,\n",
              "                   return_train_score=False, scoring=None, verbose=2)"
            ]
          },
          "metadata": {
            "tags": []
          },
          "execution_count": 153
        }
      ]
    },
    {
      "cell_type": "code",
      "metadata": {
        "colab": {
          "base_uri": "https://localhost:8080/"
        },
        "id": "HBnGuJU3yiiP",
        "outputId": "064ab550-363b-4a77-a84d-2a331e9ef66e"
      },
      "source": [
        "pclf2_randomcv.best_estimator_"
      ],
      "execution_count": null,
      "outputs": [
        {
          "output_type": "execute_result",
          "data": {
            "text/plain": [
              "PassiveAggressiveClassifier(C=0.03, average=False, class_weight=None,\n",
              "                            early_stopping=False, fit_intercept=True,\n",
              "                            loss='hinge', max_iter=2000, n_iter_no_change=8,\n",
              "                            n_jobs=None, random_state=None, shuffle=True,\n",
              "                            tol=0.001, validation_fraction=0.1, verbose=0,\n",
              "                            warm_start=False)"
            ]
          },
          "metadata": {
            "tags": []
          },
          "execution_count": 154
        }
      ]
    },
    {
      "cell_type": "code",
      "metadata": {
        "colab": {
          "base_uri": "https://localhost:8080/"
        },
        "id": "W8NkNspOzLCs",
        "outputId": "69e103da-1b7f-4193-ccc9-25c068167928"
      },
      "source": [
        "pclf2_randomcv.best_params_"
      ],
      "execution_count": null,
      "outputs": [
        {
          "output_type": "execute_result",
          "data": {
            "text/plain": [
              "{'C': 0.03, 'max_iter': 2000, 'n_iter_no_change': 8}"
            ]
          },
          "metadata": {
            "tags": []
          },
          "execution_count": 155
        }
      ]
    },
    {
      "cell_type": "code",
      "metadata": {
        "id": "bkjEUuCHy-ew"
      },
      "source": [
        "from sklearn.linear_model import PassiveAggressiveClassifier\n",
        "pacl=PassiveAggressiveClassifier(C=0.03, average=False, class_weight=None,\n",
        "                            early_stopping=False, fit_intercept=True,\n",
        "                            loss='hinge', max_iter=2000, n_iter_no_change=8,\n",
        "                            n_jobs=None, random_state=None, shuffle=True,\n",
        "                            tol=0.001, validation_fraction=0.1, verbose=0,\n",
        "                            warm_start=False)\n",
        "pacl.fit(X,y)\n",
        "predictions = pacl.predict(test_dataset)"
      ],
      "execution_count": null,
      "outputs": []
    },
    {
      "cell_type": "code",
      "metadata": {
        "colab": {
          "base_uri": "https://localhost:8080/"
        },
        "id": "h7r16VGhy-ga",
        "outputId": "eeb9fd96-657e-48de-a471-19612cdff31a"
      },
      "source": [
        "print(confusion_matrix(test['Package'],predictions))\n",
        "print(accuracy_score(test['Package'],predictions))\n",
        "print(classification_report(test['Package'],predictions))"
      ],
      "execution_count": null,
      "outputs": [
        {
          "output_type": "stream",
          "text": [
            "[[34  0  0  2  0  0  0  0  0  0  1  0]\n",
            " [ 1  8  0  0  0  1  0  0  0  0  0  0]\n",
            " [ 2  0 20  0  1  0  0  0  0  0  0  0]\n",
            " [ 1  0  1  3  0  1  0  2  0  0  1  0]\n",
            " [ 1  0  0  0  6  0  0  0  0  0  0  1]\n",
            " [ 0  0  0  1  0 10  3  0  0  7  0  1]\n",
            " [ 0  0  0  0  0  1  5  0  0  4  0  0]\n",
            " [ 0  0  0  0  0  0  0 16  0  0  0  0]\n",
            " [ 0  0  0  0  0  0  0  0  8  0  0  0]\n",
            " [ 0  0  0  1  0  5  3  0  0 27  0  0]\n",
            " [ 0  1  0  0  0  1  0  0  0  0  2  3]\n",
            " [ 0  0  0  0  2  0  0  0  0  0  0 14]]\n",
            "0.7574257425742574\n",
            "              precision    recall  f1-score   support\n",
            "\n",
            "           0       0.87      0.92      0.89        37\n",
            "           1       0.89      0.80      0.84        10\n",
            "           2       0.95      0.87      0.91        23\n",
            "           3       0.43      0.33      0.38         9\n",
            "           4       0.67      0.75      0.71         8\n",
            "           5       0.53      0.45      0.49        22\n",
            "           6       0.45      0.50      0.48        10\n",
            "           7       0.89      1.00      0.94        16\n",
            "           8       1.00      1.00      1.00         8\n",
            "           9       0.71      0.75      0.73        36\n",
            "          10       0.50      0.29      0.36         7\n",
            "          11       0.74      0.88      0.80        16\n",
            "\n",
            "    accuracy                           0.76       202\n",
            "   macro avg       0.72      0.71      0.71       202\n",
            "weighted avg       0.75      0.76      0.75       202\n",
            "\n"
          ],
          "name": "stdout"
        }
      ]
    },
    {
      "cell_type": "code",
      "metadata": {
        "colab": {
          "base_uri": "https://localhost:8080/"
        },
        "id": "bh0UwZs8zENh",
        "outputId": "6c322678-8eb6-4dad-eb91-daba207e4490"
      },
      "source": [
        "kfold_validation=KFold(10)\n",
        "results=cross_val_score(pacl,X,y,cv=kfold_validation)\n",
        "print(results)\n",
        "print(np.mean(results))"
      ],
      "execution_count": null,
      "outputs": [
        {
          "output_type": "stream",
          "text": [
            "[0.840399   0.85785536 0.840399   0.81546135 0.87032419 0.83790524\n",
            " 0.70822943 0.48628429 0.9525     0.885     ]\n",
            "0.8094357855361596\n"
          ],
          "name": "stdout"
        }
      ]
    },
    {
      "cell_type": "code",
      "metadata": {
        "id": "lHD6Ve7CTDq6"
      },
      "source": [
        "import pickle\n",
        "with open('model_pickle','wb') as file:\n",
        "    pickle.dump(pacl,file)"
      ],
      "execution_count": null,
      "outputs": []
    },
    {
      "cell_type": "code",
      "metadata": {
        "id": "4E02tGloMFlk"
      },
      "source": [
        "with open('model_pickle','rb') as file:\n",
        "    mp = pickle.load(file)"
      ],
      "execution_count": null,
      "outputs": []
    }
  ]
}